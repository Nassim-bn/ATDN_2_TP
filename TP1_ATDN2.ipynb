{
 "cells": [
  {
   "cell_type": "markdown",
   "metadata": {},
   "source": [
    "## TP1 ATDN 2\n",
    "\n",
    "### Nassim Benchikh GRP3"
   ]
  },
  {
   "cell_type": "markdown",
   "metadata": {},
   "source": [
    "### Analyse de Données et Méthodes d'Ensemble"
   ]
  },
  {
   "cell_type": "markdown",
   "metadata": {},
   "source": [
    "#### Les objectifs pédagogiques de ce TP sont les suivants :\n",
    "\n",
    "- Maîtriser les bases de l'analyse exploratoire des données (statistiques descriptives, détection des outliers, tests statistiques)\n",
    "- Comprendre les méthodes de réduction de dimensionnalité (ACP, ACP à noyau)\n",
    "- Implémenter des méthodes d'ensemble (Bagging, Boosting)\n",
    "- Appliquer ces techniques sur des données réelles issues d'un élevage de poulets\n",
    "- Comparer les performances des différentes approches"
   ]
  },
  {
   "cell_type": "markdown",
   "metadata": {},
   "source": [
    "### Partie 1 : Analyse exploratoire des données"
   ]
  },
  {
   "cell_type": "code",
   "execution_count": 2,
   "metadata": {},
   "outputs": [],
   "source": [
    "import numpy as np\n",
    "import pandas as pd\n",
    "\n",
    "df = pd.DataFrame({\n",
    "'poids': np.random.normal(2.5, 0.5, 100),\n",
    "'nourriture': np.random.normal(1.2, 0.3, 100),\n",
    "'temperature': np.random.normal(25, 2, 100)\n",
    "})\n",
    "\n",
    "df.head()\n",
    "df.to_csv('donnees.csv', index=False)"
   ]
  },
  {
   "cell_type": "markdown",
   "metadata": {},
   "source": [
    "### Exercice 1 : Statistiques descriptives (1 points)"
   ]
  },
  {
   "cell_type": "markdown",
   "metadata": {},
   "source": [
    "1.  Calculez la moyenne, médiane, écart-type, variance et les quartiles pour les variables poids, nourriture et température.\n",
    "\n",
    "2.  Tracez des histogrammes et des boxplots pour visualiser la répartition des données. Que pouvez-vous déduire de ces graphiques ? Les données semblent-elles homogènes ou dispersées ?"
   ]
  },
  {
   "cell_type": "code",
   "execution_count": 6,
   "metadata": {},
   "outputs": [
    {
     "name": "stdout",
     "output_type": "stream",
     "text": [
      "Moyenne Poids: 2.5260375977350438\n",
      "Moyenne Nourriture: 1.1786997005785573\n",
      "Moyenne Temperature: 25.048857694514787\n",
      "Mediane Poids: 2.464168064501944\n",
      "Mediane Nourriture: 1.2086796011651195\n",
      "Mediane Temperature: 25.06285596747974\n"
     ]
    }
   ],
   "source": [
    "# 1 Calculer la moyenne, mediane, variance, quartiles et l'écart-type pour les variables poids, nourriture et température.\n",
    "\n",
    "# Moyenne : \n",
    "\n",
    "moyenne_poids = df['poids'].mean()\n",
    "moyenne_nourriture = df['nourriture'].mean()\n",
    "moyenne_temperature = df['temperature'].mean()\n",
    "print(f\"Moyenne Poids: {moyenne_poids}\")\n",
    "print(f\"Moyenne Nourriture: {moyenne_nourriture}\")\n",
    "print(f\"Moyenne Temperature: {moyenne_temperature}\")\n",
    "\n",
    "# Mediane :\n",
    "\n",
    "mediane_poids = df['poids'].median()\n",
    "mediane_nourriture = df['nourriture'].median()\n",
    "mediane_temperature = df['temperature'].median()\n",
    "print(f\"Mediane Poids: {mediane_poids}\")\n",
    "print(f\"Mediane Nourriture: {mediane_nourriture}\")\n",
    "print(f\"Mediane Temperature: {mediane_temperature}\")\n",
    "\n"
   ]
  },
  {
   "cell_type": "code",
   "execution_count": 5,
   "metadata": {},
   "outputs": [
    {
     "data": {
      "application/vnd.microsoft.datawrangler.viewer.v0+json": {
       "columns": [
        {
         "name": "index",
         "rawType": "object",
         "type": "string"
        },
        {
         "name": "poids",
         "rawType": "float64",
         "type": "float"
        },
        {
         "name": "nourriture",
         "rawType": "float64",
         "type": "float"
        },
        {
         "name": "temperature",
         "rawType": "float64",
         "type": "float"
        }
       ],
       "conversionMethod": "pd.DataFrame",
       "ref": "cd414c27-eb51-4d2e-905b-3553d6c4ece2",
       "rows": [
        [
         "count",
         "100.0",
         "100.0",
         "100.0"
        ],
        [
         "mean",
         "2.5260375977350438",
         "1.1786997005785573",
         "25.048857694514787"
        ],
        [
         "std",
         "0.4784451452003922",
         "0.3088159432398516",
         "1.6311653562275668"
        ],
        [
         "min",
         "1.4765503675598952",
         "0.11814588056716069",
         "21.79744737504006"
        ],
        [
         "25%",
         "2.152371968799839",
         "0.9625810171590099",
         "23.900916043341958"
        ],
        [
         "50%",
         "2.464168064501944",
         "1.2086796011651195",
         "25.06285596747974"
        ],
        [
         "75%",
         "2.9315231583300427",
         "1.3829097109257826",
         "26.072884944398538"
        ],
        [
         "max",
         "3.5645447686778713",
         "1.8481012476839465",
         "29.19466066262506"
        ]
       ],
       "shape": {
        "columns": 3,
        "rows": 8
       }
      },
      "text/html": [
       "<div>\n",
       "<style scoped>\n",
       "    .dataframe tbody tr th:only-of-type {\n",
       "        vertical-align: middle;\n",
       "    }\n",
       "\n",
       "    .dataframe tbody tr th {\n",
       "        vertical-align: top;\n",
       "    }\n",
       "\n",
       "    .dataframe thead th {\n",
       "        text-align: right;\n",
       "    }\n",
       "</style>\n",
       "<table border=\"1\" class=\"dataframe\">\n",
       "  <thead>\n",
       "    <tr style=\"text-align: right;\">\n",
       "      <th></th>\n",
       "      <th>poids</th>\n",
       "      <th>nourriture</th>\n",
       "      <th>temperature</th>\n",
       "    </tr>\n",
       "  </thead>\n",
       "  <tbody>\n",
       "    <tr>\n",
       "      <th>count</th>\n",
       "      <td>100.000000</td>\n",
       "      <td>100.000000</td>\n",
       "      <td>100.000000</td>\n",
       "    </tr>\n",
       "    <tr>\n",
       "      <th>mean</th>\n",
       "      <td>2.526038</td>\n",
       "      <td>1.178700</td>\n",
       "      <td>25.048858</td>\n",
       "    </tr>\n",
       "    <tr>\n",
       "      <th>std</th>\n",
       "      <td>0.478445</td>\n",
       "      <td>0.308816</td>\n",
       "      <td>1.631165</td>\n",
       "    </tr>\n",
       "    <tr>\n",
       "      <th>min</th>\n",
       "      <td>1.476550</td>\n",
       "      <td>0.118146</td>\n",
       "      <td>21.797447</td>\n",
       "    </tr>\n",
       "    <tr>\n",
       "      <th>25%</th>\n",
       "      <td>2.152372</td>\n",
       "      <td>0.962581</td>\n",
       "      <td>23.900916</td>\n",
       "    </tr>\n",
       "    <tr>\n",
       "      <th>50%</th>\n",
       "      <td>2.464168</td>\n",
       "      <td>1.208680</td>\n",
       "      <td>25.062856</td>\n",
       "    </tr>\n",
       "    <tr>\n",
       "      <th>75%</th>\n",
       "      <td>2.931523</td>\n",
       "      <td>1.382910</td>\n",
       "      <td>26.072885</td>\n",
       "    </tr>\n",
       "    <tr>\n",
       "      <th>max</th>\n",
       "      <td>3.564545</td>\n",
       "      <td>1.848101</td>\n",
       "      <td>29.194661</td>\n",
       "    </tr>\n",
       "  </tbody>\n",
       "</table>\n",
       "</div>"
      ],
      "text/plain": [
       "            poids  nourriture  temperature\n",
       "count  100.000000  100.000000   100.000000\n",
       "mean     2.526038    1.178700    25.048858\n",
       "std      0.478445    0.308816     1.631165\n",
       "min      1.476550    0.118146    21.797447\n",
       "25%      2.152372    0.962581    23.900916\n",
       "50%      2.464168    1.208680    25.062856\n",
       "75%      2.931523    1.382910    26.072885\n",
       "max      3.564545    1.848101    29.194661"
      ]
     },
     "execution_count": 5,
     "metadata": {},
     "output_type": "execute_result"
    }
   ],
   "source": [
    "df.describe()"
   ]
  },
  {
   "cell_type": "markdown",
   "metadata": {},
   "source": [
    "### Moyennes : \n",
    "\n",
    "- Moyenne Poids: 2.5260375977350438\n",
    "- Moyenne Nourriture: 1.1786997005785573\n",
    "- Moyenne Temperature: 25.048857694514787\n",
    "\n",
    "### Medianes : \n",
    "- Mediane Poids: 2.464168064501944\n",
    "- Mediane Nourriture: 1.2086796011651195\n",
    "- Mediane Temperature: 25.06285596747974\n",
    "\n",
    "### Quantiles : \n",
    "\n",
    "- Quartiles Poids: \n",
    "25% :   2.152372\n",
    "50% :    2.464168\n",
    "75%  :   2.931523\n",
    "\n",
    "- Quartiles Nourriture:\n",
    "25%  :  0.962581\n",
    "50% :  1.208680\n",
    "75% :   1.382910\n",
    "\n",
    "\n",
    "- Quartiles Temperature: \n",
    "25%  :   23.900916\n",
    "50%  :   25.062856\n",
    "75%  :  26.072885\n",
    "\n",
    "### Ecart-Type : \n",
    "\n",
    "- Ecart-type Poids: 0.4784451452003922\n",
    "- Ecart-type Nourriture: 0.3088159432398516\n",
    "- Ecart-type Temperature: 1.6311653562275668"
   ]
  },
  {
   "cell_type": "code",
   "execution_count": 8,
   "metadata": {},
   "outputs": [
    {
     "name": "stdout",
     "output_type": "stream",
     "text": [
      "Variance Poids: 0.2289097569658244\n",
      "Variance Nourriture: 0.09536728679911927\n",
      "Variance Temperature: 2.6607004193570045\n"
     ]
    }
   ],
   "source": [
    "# Variance :\n",
    "\n",
    "variance_poids = df['poids'].var()\n",
    "variance_nourriture = df['nourriture'].var()\n",
    "variance_temperature = df['temperature'].var()\n",
    "print(f\"Variance Poids: {variance_poids}\")\n",
    "print(f\"Variance Nourriture: {variance_nourriture}\")\n",
    "print(f\"Variance Temperature: {variance_temperature}\")"
   ]
  },
  {
   "cell_type": "markdown",
   "metadata": {},
   "source": [
    "### Variances : \n",
    "- Variance Poids: 0.2289097569658244\n",
    "- Variance Nourriture: 0.09536728679911927\n",
    "- Variance Temperature: 2.6607004193570045"
   ]
  },
  {
   "cell_type": "code",
   "execution_count": 9,
   "metadata": {},
   "outputs": [
    {
     "data": {
      "image/png": "[encoded data removed]",
      "text/plain": [
       "<Figure size 1000x500 with 3 Axes>"
      ]
     },
     "metadata": {},
     "output_type": "display_data"
    }
   ],
   "source": [
    "# Tracez des histogrammes et des boxplots pour visualiser la répartition des données. \n",
    "\n",
    "# Histogrammes :\n",
    "import matplotlib.pyplot as plt\n",
    "import seaborn as sns\n",
    "import matplotlib.ticker as ticker\n",
    "import matplotlib.dates as mdates\n",
    "import datetime \n",
    "import matplotlib.dates as mdates\n",
    "\n",
    "# Histogramme Poids\n",
    "plt.figure(figsize=(10, 5))\n",
    "plt.subplot(1, 3, 1)\n",
    "plt.hist(df['poids'], bins=20, color='blue', alpha=0.7)\n",
    "plt.title('Histogramme Poids')\n",
    "plt.xlabel('Poids')\n",
    "plt.ylabel('Fréquence')\n",
    "plt.grid(axis='y', alpha=0.75)\n",
    "plt.subplot(1, 3, 2)\n",
    "plt.hist(df['nourriture'], bins=20, color='green', alpha=0.7)\n",
    "plt.title('Histogramme Nourriture')\n",
    "plt.xlabel('Nourriture')\n",
    "plt.ylabel('Fréquence')\n",
    "plt.grid(axis='y', alpha=0.75)\n",
    "plt.subplot(1, 3, 3)\n",
    "plt.hist(df['temperature'], bins=20, color='red', alpha=0.7)\n",
    "plt.title('Histogramme Temperature')\n",
    "plt.xlabel('Temperature')   \n",
    "plt.ylabel('Fréquence')\n",
    "plt.grid(axis='y', alpha=0.75)\n",
    "plt.tight_layout()\n",
    "plt.show()\n"
   ]
  },
  {
   "cell_type": "markdown",
   "metadata": {},
   "source": [
    "### Observations : "
   ]
  },
  {
   "cell_type": "markdown",
   "metadata": {},
   "source": [
    "#### Poids :\n",
    "\n",
    "- La distribution est légèrement asymétrique à droite, avec une majorité de valeurs autour de 2.5.\n",
    "\n",
    "#### nourriture :\n",
    "- La distribution est relativement symétrique, avec une majorité de valeurs autour de 1.2.\n",
    "\n",
    "#### temperature :\n",
    "- La distribution est légèrement asymétrique à droite, avec une majorité de valeurs autour de 25.\n",
    "\n"
   ]
  },
  {
   "cell_type": "code",
   "execution_count": 10,
   "metadata": {},
   "outputs": [
    {
     "data": {
      "image/png": "[encoded data removed]",
      "text/plain": [
       "<Figure size 1000x500 with 3 Axes>"
      ]
     },
     "metadata": {},
     "output_type": "display_data"
    }
   ],
   "source": [
    "# Boxplots :\n",
    "\n",
    "plt.figure(figsize=(10, 5))\n",
    "plt.subplot(1, 3, 1)\n",
    "sns.boxplot(x=df['poids'], color='blue')\n",
    "plt.title('Boxplot Poids')\n",
    "plt.xlabel('Poids')\n",
    "plt.subplot(1, 3, 2)\n",
    "sns.boxplot(x=df['nourriture'], color='green')\n",
    "plt.title('Boxplot Nourriture')\n",
    "plt.xlabel('Nourriture')\n",
    "plt.subplot(1, 3, 3)\n",
    "sns.boxplot(x=df['temperature'], color='red')\n",
    "plt.title('Boxplot Temperature')\n",
    "plt.xlabel('Temperature')\n",
    "plt.tight_layout()\n",
    "plt.show()"
   ]
  },
  {
   "cell_type": "markdown",
   "metadata": {},
   "source": [
    "#### Poids\n",
    "\n",
    "- La boîte est large, ce qui indique une dispersion modérée des poids données.\n",
    "- Pas d'outlier visible, donc pas de valeur extrême inhabituelle.\n",
    "\n",
    "#### Nourriture\n",
    "\n",
    "- La boîte est moins large, ce qui signifie une dispersion plus faible par rapport aux autres variables. \n",
    "- Un outlier est visible sur la gauche, ce qui montre une valeur atypique.\n",
    "\n",
    "\n",
    "#### Tempertature\n",
    "\n",
    "- La boîte est relativement grande, suggérant une dispersion notable.\n",
    "- Les moustaches sont longues, ce qui signifie que les températures varient sur une large plage.\n",
    "- Pas d'outlier visible.\n",
    "\n",
    "#### Conclusion \n",
    "\n",
    "- Le poids et la température sont modérément dispersés car leurs boxplots sont larges avec de longues moustaches.\n",
    "- La nourriture est la moins dispersée, sauf pour un outlier qui pourrait influencer l'analyse.\n",
    "- Les données sur la nourriture sont les plus homogènes, car elles sont moins dispersées malgré un outlier.\n",
    "- Les poids sont moyennement homogènes.\n",
    "- Les températures sont les moins homogènes, car elles varient fortement."
   ]
  },
  {
   "cell_type": "markdown",
   "metadata": {},
   "source": [
    "### Exercice 2 : Détection des outliers\n",
    "\n",
    "3.  Détectez les outliers avec la méthode de l'écart interquartile (IQR) et la méthode du Z-Score. Comparez les résultats.\n",
    "4. Visualisez ces outliers sur un boxplot annoté. Les outliers détectés sont-ils réalistes ou issus d'erreurs de mesure ? Faut-il les exclure ou les garder ? Justifiez votre choix."
   ]
  },
  {
   "cell_type": "code",
   "execution_count": 21,
   "metadata": {},
   "outputs": [
    {
     "name": "stdout",
     "output_type": "stream",
     "text": [
      "Détection des outliers avec la méthode de l'écart interquartile (IQR) et la méthode du Z-Score\n",
      "Outliers Poids (IQR):\n",
      "Empty DataFrame\n",
      "Columns: [poids, nourriture, temperature]\n",
      "Index: []\n",
      "Outliers Poids (Z-Score):\n",
      "Empty DataFrame\n",
      "Columns: [poids, nourriture, temperature]\n",
      "Index: []\n",
      "\n",
      "Détection des outliers par IQR et Z-Score pour nourriture:\n",
      "Outliers Nourriture (IQR):\n",
      "       poids  nourriture  temperature\n",
      "32  3.549685    0.118146    25.621862\n",
      "Outliers Nourriture (Z-Score):\n",
      "       poids  nourriture  temperature\n",
      "32  3.549685    0.118146    25.621862\n",
      "\n",
      "Détection des outliers par IQR et Z-Score pour temperature:\n",
      "Outliers Temperature (IQR):\n",
      "Empty DataFrame\n",
      "Columns: [poids, nourriture, temperature]\n",
      "Index: []\n",
      "Outliers Temperature (Z-Score):\n",
      "Empty DataFrame\n",
      "Columns: [poids, nourriture, temperature]\n",
      "Index: []\n"
     ]
    }
   ],
   "source": [
    "# Détectez les outliers avec la méthode de l'écart interquartile (IQR) et la méthode du Z-Score.\n",
    "# Méthode de l'écart interquartile (IQR) pour poids\n",
    "\n",
    "print(\"Détection des outliers avec la méthode de l'écart interquartile (IQR) et la méthode du Z-Score\")\n",
    "q1 = df['poids'].quantile(0.25)\n",
    "q2 = df['poids'].quantile(0.75)\n",
    "iqr = q2 - q1\n",
    "lower_bound = q1 - 1.5 * iqr\n",
    "upper_bound = q2 + 1.5 * iqr\n",
    "outliers_iqr = df[(df['poids'] < lower_bound) | (df['poids'] > upper_bound)]\n",
    "print(\"Outliers Poids (IQR):\")\n",
    "print(outliers_iqr)\n",
    "\n",
    "\n",
    "# Méthode du Z-Score pour poids\n",
    "from scipy import stats\n",
    "z_scores = np.abs(stats.zscore(df['poids']))\n",
    "outliers_z = df[z_scores > 3]\n",
    "print(\"Outliers Poids (Z-Score):\")\n",
    "print(outliers_z)\n",
    "\n",
    "print(\"\\nDétection des outliers par IQR et Z-Score pour nourriture:\")\n",
    "\n",
    "# Méthode de l'écart interquartile (IQR) pour nourriture\n",
    "q1 = df['nourriture'].quantile(0.25)\n",
    "q2 = df['nourriture'].quantile(0.75)\n",
    "iqr = q2 - q1\n",
    "lower_bound = q1 - 1.5 * iqr\n",
    "upper_bound = q2 + 1.5 * iqr\n",
    "outliers_iqr = df[(df['nourriture'] < lower_bound) | (df['nourriture'] > upper_bound)]\n",
    "print(\"Outliers Nourriture (IQR):\")\n",
    "print(outliers_iqr)\n",
    "\n",
    "# Méthode du Z-Score pour nourriture\n",
    "z_scores = np.abs(stats.zscore(df['nourriture']))\n",
    "outliers_z = df[z_scores > 3]\n",
    "print(\"Outliers Nourriture (Z-Score):\")\n",
    "print(outliers_z)\n",
    "\n",
    "\n",
    "print(\"\\nDétection des outliers par IQR et Z-Score pour temperature:\")\n",
    "\n",
    "# Méthode de l'écart interquartile (IQR) pour temperature\n",
    "q1 = df['temperature'].quantile(0.25)\n",
    "q2 = df['temperature'].quantile(0.75)\n",
    "iqr = q2 - q1\n",
    "lower_bound = q1 - 1.5 * iqr\n",
    "upper_bound = q2 + 1.5 * iqr\n",
    "outliers_iqr = df[(df['temperature'] < lower_bound) | (df['temperature'] > upper_bound)]\n",
    "print(\"Outliers Temperature (IQR):\")    \n",
    "print(outliers_iqr)\n",
    "\n",
    "# Méthode du Z-Score pour temperature\n",
    "z_scores = np.abs(stats.zscore(df['temperature']))\n",
    "outliers_z = df[z_scores > 3]\n",
    "print(\"Outliers Temperature (Z-Score):\")\n",
    "print(outliers_z)\n",
    "\n"
   ]
  },
  {
   "cell_type": "markdown",
   "metadata": {},
   "source": [
    "##### Resultat : \n",
    "- Il n'y a pas d'outliers dans les variables **poids** et **temperature** selon la méthode Z-Score et la méthode IQR.\n",
    "- Un outlier a été deteté pour la variable **nourriture** avec les 2 methodes"
   ]
  },
  {
   "cell_type": "code",
   "execution_count": 27,
   "metadata": {},
   "outputs": [
    {
     "data": {
      "image/png": "[encoded data removed]",
      "text/plain": [
       "<Figure size 1000x500 with 3 Axes>"
      ]
     },
     "metadata": {},
     "output_type": "display_data"
    }
   ],
   "source": [
    "# Visualisez les outliers sur un boxplot annoté \n",
    "\n",
    "plt.figure(figsize=(10, 5))\n",
    "plt.subplot(1, 3, 1)\n",
    "sns.boxplot(x=df['poids'], color='blue')\n",
    "plt.title('Boxplot Poids avec Outliers')\n",
    "plt.xlabel('Poids')\n",
    "plt.subplot(1, 3, 2)\n",
    "sns.boxplot(x=df['nourriture'], color='green')\n",
    "plt.title('Boxplot Nourriture avec Outliers')\n",
    "plt.xlabel('Nourriture')\n",
    "plt.subplot(1, 3, 3)\n",
    "sns.boxplot(x=df['temperature'], color='red')\n",
    "plt.title('Boxplot Temperature avec Outliers')\n",
    "plt.xlabel('Temperature')\n",
    "plt.tight_layout()\n",
    "plt.show()"
   ]
  },
  {
   "cell_type": "markdown",
   "metadata": {},
   "source": [
    "#### Les outliers détectés sont-ils réalistes ou issus d'erreurs de mesure ? \n",
    "\n",
    "- Dans notre cas, on a detecté un outlier pour nourriture, et il est possible qu'il soit dû à une erreur de mesure ou à un individu ayant un comportement alimentaire exceptionnel.\n"
   ]
  },
  {
   "cell_type": "markdown",
   "metadata": {},
   "source": [
    "#### Les outliers detectes, Faut-il les exclure ou les garder : \n",
    "\n",
    "- Il n'y a pas de réponse unique à cette question. Cela dépend du contexte de l'analyse et de la nature des données. Voici quelques considérations :\n",
    "1. **Contexte de l'analyse** : Si les outliers sont le résultat d'erreurs de mesure ou de saisie, il peut être judicieux de les exclure. En revanche, si les outliers représentent des observations valides mais rares, il peut être pertinent de les conserver.\n",
    "2. **Impact sur les résultats** : Les outliers peuvent influencer les résultats de l'analyse, en particulier dans les modèles statistiques. Il est important d'évaluer comment leur présence ou leur absence affecte les conclusions.\n",
    "\n",
    "Donc, il est recommandé de documenter la décision prise concernant les outliers et de justifier cette décision en fonction du contexte de l'analyse.\n"
   ]
  },
  {
   "cell_type": "markdown",
   "metadata": {},
   "source": [
    "### Exercice 3 : Tests paramétriques\n",
    "\n",
    "5. Testez la normalité des variables (poids, nourriture, température) avec le test de Shapiro- Wilk. Expliquez ce que vous observez.\n",
    "6.  Comparez les moyennes de deux groupes avec le test t de Student, puis utilisez une ANOVA pour comparer les moyennes de plusieurs groupes. Interprétez les résultats."
   ]
  },
  {
   "cell_type": "code",
   "execution_count": 30,
   "metadata": {},
   "outputs": [
    {
     "name": "stdout",
     "output_type": "stream",
     "text": [
      "Statistique de Shapiro-Wilk pour Poids: 0.9820050297725859\n",
      "p-value pour Poids: 0.18989618075229198\n",
      "La distribution de Poids est normale (H0 acceptée)\n",
      "Statistique de Shapiro-Wilk pour Nourriture: 0.9804166279220016\n",
      "p-value pour Nourriture: 0.14322812610038677\n",
      "La distribution de Nourriture est normale (H0 acceptée)\n",
      "Statistique de Shapiro-Wilk pour Temperature: 0.9859272390225615\n",
      "p-value pour Temperature: 0.36960888573494904\n",
      "La distribution de Temperature est normale (H0 acceptée)\n"
     ]
    }
   ],
   "source": [
    "# Testez la normalité des variables (poids, nourriture, température) avec le test de Shapiro- Wilk. Expliquez ce que vous observez.\n",
    "\n",
    "from scipy.stats import shapiro\n",
    "stat, p = shapiro(df['poids'])\n",
    "print('Statistique de Shapiro-Wilk pour Poids:', stat)\n",
    "print('p-value pour Poids:', p)\n",
    "alpha = 0.05 # 0.05 est le niveau de signification car c'est le plus utilisé, dans la documentation de scipy, il est conseillé de ne pas dépasser 0.05\n",
    "if p > alpha:\n",
    "    print('La distribution de Poids est normale (H0 acceptée)')\n",
    "else:\n",
    "    print('La distribution de Poids n\\'est pas normale (H0 rejetée)')\n",
    "stat, p = shapiro(df['nourriture'])\n",
    "print('Statistique de Shapiro-Wilk pour Nourriture:', stat)\n",
    "print('p-value pour Nourriture:', p)\n",
    "if p > alpha:\n",
    "    print('La distribution de Nourriture est normale (H0 acceptée)')\n",
    "else:\n",
    "    print('La distribution de Nourriture n\\'est pas normale (H0 rejetée)')\n",
    "stat, p = shapiro(df['temperature'])\n",
    "print('Statistique de Shapiro-Wilk pour Temperature:', stat)\n",
    "print('p-value pour Temperature:', p)\n",
    "if p > alpha:\n",
    "    print('La distribution de Temperature est normale (H0 acceptée)')\n",
    "else:\n",
    "    print('La distribution de Temperature n\\'est pas normale (H0 rejetée)')"
   ]
  },
  {
   "cell_type": "markdown",
   "metadata": {},
   "source": [
    "#### Interpretation des tests de Shapiro-Wilk. \n",
    "\n",
    "- La distribution de Poids est normale (H0 acceptée), cela signifie que les données de poids suivent une distribution normale.\n",
    "- La distribution de Nourriture est normale (H0 acceptée), cela signifie que les données de nourriture suivent une distribution normale.\n",
    "- La distribution de Temperature est normale (H0 acceptée), cela signifie que les données de température suivent une distribution normale.\n",
    "- On conclu que les trois variables (poids, nourriture et température) suivent une distribution normale."
   ]
  },
  {
   "cell_type": "code",
   "execution_count": 33,
   "metadata": {},
   "outputs": [
    {
     "name": "stdout",
     "output_type": "stream",
     "text": [
      "Test t de Student pour Poids:\n",
      "Statistique t: -0.6126572576072113\n",
      "p-value: 0.5415220701801211\n",
      "Les moyennes de Poids des deux groupes ne sont pas significativement différentes (H0 acceptée)\n",
      "Test t de Student pour Nourriture:\n",
      "Statistique t: -0.43491764759525625\n",
      "p-value: 0.6645784508787163\n",
      "Les moyennes de Nourriture des deux groupes ne sont pas significativement différentes (H0 acceptée)\n",
      "Test t de Student pour Temperature:\n",
      "Statistique t: 0.04129675855988889\n",
      "p-value: 0.9671433361948237\n",
      "Les moyennes de Temperature des deux groupes ne sont pas significativement différentes (H0 acceptée)\n",
      "ANOVA pour Poids:\n",
      "Statistique F: 0.22994034671578933\n",
      "p-value: 0.7950128622983951\n",
      "Les moyennes de Poids des trois groupes ne sont pas significativement différentes (H0 acceptée)\n",
      "ANOVA pour Nourriture:\n",
      "Statistique F: 0.4475029977390799\n",
      "p-value: 0.6405352751184038\n",
      "Les moyennes de Nourriture des trois groupes ne sont pas significativement différentes (H0 acceptée)\n",
      "ANOVA pour Temperature:\n",
      "Statistique F: 0.23059914145504698\n",
      "p-value: 0.7944917577917666\n",
      "Les moyennes de Temperature des trois groupes ne sont pas significativement différentes (H0 acceptée)\n"
     ]
    }
   ],
   "source": [
    "# Comparez les moyennes de deux groupes avec le test t de Student, puis utilisez une ANOVA pour comparer les moyennes de plusieurs groupes\n",
    "\n",
    "# Test t de Student pour comparer les moyennes de deux groupes\n",
    "from scipy.stats import ttest_ind\n",
    "# Création de deux groupes aléatoires\n",
    "groupe1 = df.sample(frac=0.5, random_state=1)\n",
    "groupe2 = df.drop(groupe1.index)\n",
    "# Test t de Student pour Poids\n",
    "t_stat, p_value = ttest_ind(groupe1['poids'], groupe2['poids'])\n",
    "print('Test t de Student pour Poids:')\n",
    "print('Statistique t:', t_stat)\n",
    "print('p-value:', p_value)\n",
    "if p_value < alpha:\n",
    "    print('Les moyennes de Poids des deux groupes sont significativement différentes (H0 rejetée)')\n",
    "else:\n",
    "    print('Les moyennes de Poids des deux groupes ne sont pas significativement différentes (H0 acceptée)')\n",
    "# Test t de Student pour Nourriture\n",
    "t_stat, p_value = ttest_ind(groupe1['nourriture'], groupe2['nourriture'])\n",
    "print('Test t de Student pour Nourriture:')\n",
    "print('Statistique t:', t_stat)\n",
    "print('p-value:', p_value)\n",
    "if p_value < alpha:\n",
    "    print('Les moyennes de Nourriture des deux groupes sont significativement différentes (H0 rejetée)')\n",
    "else:\n",
    "    print('Les moyennes de Nourriture des deux groupes ne sont pas significativement différentes (H0 acceptée)')\n",
    "# Test t de Student pour Temperature\n",
    "t_stat, p_value = ttest_ind(groupe1['temperature'], groupe2['temperature'])\n",
    "print('Test t de Student pour Temperature:')\n",
    "print('Statistique t:', t_stat)\n",
    "print('p-value:', p_value)\n",
    "if p_value < alpha:\n",
    "    print('Les moyennes de Temperature des deux groupes sont significativement différentes (H0 rejetée)')\n",
    "else:\n",
    "    print('Les moyennes de Temperature des deux groupes ne sont pas significativement différentes (H0 acceptée)')\n",
    "# ANOVA pour comparer les moyennes de plusieurs groupes\n",
    "\n",
    "from scipy.stats import f_oneway\n",
    "# Création de trois groupes aléatoires sans chevauchement\n",
    "groupe1 = df.sample(frac=0.33, random_state=1)\n",
    "remaining_df = df.drop(groupe1.index)\n",
    "groupe2 = remaining_df.sample(frac=0.5, random_state=2)\n",
    "groupe3 = remaining_df.drop(groupe2.index)\n",
    "# ANOVA pour Poids\n",
    "f_stat, p_value = f_oneway(groupe1['poids'], groupe2['poids'], groupe3['poids'])\n",
    "print('ANOVA pour Poids:')\n",
    "print('Statistique F:', f_stat)\n",
    "print('p-value:', p_value)\n",
    "if p_value < alpha:\n",
    "    print('Les moyennes de Poids des trois groupes sont significativement différentes (H0 rejetée)')\n",
    "else:\n",
    "    print('Les moyennes de Poids des trois groupes ne sont pas significativement différentes (H0 acceptée)')\n",
    "# ANOVA pour Nourriture\n",
    "f_stat, p_value = f_oneway(groupe1['nourriture'], groupe2['nourriture'], groupe3['nourriture'])\n",
    "print('ANOVA pour Nourriture:')\n",
    "print('Statistique F:', f_stat)\n",
    "print('p-value:', p_value)\n",
    "if p_value < alpha:\n",
    "    print('Les moyennes de Nourriture des trois groupes sont significativement différentes (H0 rejetée)')\n",
    "else:\n",
    "    print('Les moyennes de Nourriture des trois groupes ne sont pas significativement différentes (H0 acceptée)')\n",
    "# ANOVA pour Temperature\n",
    "f_stat, p_value = f_oneway(groupe1['temperature'], groupe2['temperature'], groupe3['temperature'])\n",
    "print('ANOVA pour Temperature:')\n",
    "print('Statistique F:', f_stat)\n",
    "print('p-value:', p_value)\n",
    "if p_value < alpha:\n",
    "    print('Les moyennes de Temperature des trois groupes sont significativement différentes (H0 rejetée)')\n",
    "else:\n",
    "    print('Les moyennes de Temperature des trois groupes ne sont pas significativement différentes (H0 acceptée)')\n"
   ]
  },
  {
   "cell_type": "markdown",
   "metadata": {},
   "source": [
    "#### Interprétez les résultats: \n",
    "\n",
    "- Les résultats des tests statistiques montrent que les moyennes des variables Poids, Nourriture et Temperature ne sont pas significativement différentes entre les groupes testés.\n",
    "- Dans **t de Student**, la p-value est supérieure à 0.05, ce qui signifie que nous n'avons pas suffisamment de preuves pour rejeter l'hypothèse nulle (H0) selon laquelle les moyennes des deux groupes sont égales.\n",
    "- Dans **l'ANOVA**, la p-value est également supérieure à 0.05, ce qui signifie que nous n'avons pas suffisamment de preuves pour rejeter l'hypothèse nulle (H0) selon laquelle les moyennes des trois groupes sont égales.\n",
    "- Donc nous pouvons conclure que les moyennes de Poids, Nourriture et Temperature ne sont pas significativement différentes entre les groupes testés. Cela veur dire que les groupes sont homogènes et que les différences observées dans les moyennes sont dues à la variabilité aléatoire plutôt qu'à des différences réelles entre les groupes.\n"
   ]
  },
  {
   "cell_type": "markdown",
   "metadata": {},
   "source": [
    "### Partie 2 : Réduction de dimensionnalité"
   ]
  },
  {
   "cell_type": "markdown",
   "metadata": {},
   "source": [
    "#### Exercice 4 : Analyse en Composantes Principales (ACP)\n",
    "\n",
    "7. Implémentez une ACP sans scikit-learn (avec numpy). Calculez la matrice de covariance, les valeurs propres et les vecteurs propres.\n",
    "8. Projetez les données sur les deux premières composantes principales et visualisez le résultat. Combien de composantes gardez-vous ? Justifiez."
   ]
  },
  {
   "cell_type": "code",
   "execution_count": 41,
   "metadata": {},
   "outputs": [
    {
     "data": {
      "application/vnd.microsoft.datawrangler.viewer.v0+json": {
       "columns": [
        {
         "name": "index",
         "rawType": "int64",
         "type": "integer"
        },
        {
         "name": "Poids_poulet_g",
         "rawType": "int64",
         "type": "integer"
        },
        {
         "name": "Nourriture_consommee_g_jour",
         "rawType": "int64",
         "type": "integer"
        },
        {
         "name": "Temperature_enclos_C",
         "rawType": "float64",
         "type": "float"
        },
        {
         "name": "Humidite_%",
         "rawType": "float64",
         "type": "float"
        },
        {
         "name": "Age_poulet_jours",
         "rawType": "int64",
         "type": "integer"
        },
        {
         "name": "Gain_poids_jour_g",
         "rawType": "float64",
         "type": "float"
        },
        {
         "name": "Taux_survie_%",
         "rawType": "float64",
         "type": "float"
        },
        {
         "name": "Cout_elevage_FCFA",
         "rawType": "int64",
         "type": "integer"
        }
       ],
       "conversionMethod": "pd.DataFrame",
       "ref": "92ed1fe0-da3f-4f43-ab84-a33426fc1e63",
       "rows": [
        [
         "0",
         "3974",
         "52",
         "27.6",
         "79.3",
         "24",
         "12.0",
         "81.1",
         "2682"
        ],
        [
         "1",
         "1660",
         "152",
         "31.7",
         "62.5",
         "42",
         "12.2",
         "89.1",
         "6626"
        ],
        [
         "2",
         "2094",
         "186",
         "30.1",
         "64.8",
         "29",
         "18.8",
         "90.4",
         "8424"
        ],
        [
         "3",
         "1930",
         "111",
         "29.2",
         "87.0",
         "63",
         "13.8",
         "92.9",
         "1933"
        ],
        [
         "4",
         "1895",
         "100",
         "26.1",
         "78.2",
         "21",
         "5.5",
         "93.0",
         "4598"
        ]
       ],
       "shape": {
        "columns": 8,
        "rows": 5
       }
      },
      "text/html": [
       "<div>\n",
       "<style scoped>\n",
       "    .dataframe tbody tr th:only-of-type {\n",
       "        vertical-align: middle;\n",
       "    }\n",
       "\n",
       "    .dataframe tbody tr th {\n",
       "        vertical-align: top;\n",
       "    }\n",
       "\n",
       "    .dataframe thead th {\n",
       "        text-align: right;\n",
       "    }\n",
       "</style>\n",
       "<table border=\"1\" class=\"dataframe\">\n",
       "  <thead>\n",
       "    <tr style=\"text-align: right;\">\n",
       "      <th></th>\n",
       "      <th>Poids_poulet_g</th>\n",
       "      <th>Nourriture_consommee_g_jour</th>\n",
       "      <th>Temperature_enclos_C</th>\n",
       "      <th>Humidite_%</th>\n",
       "      <th>Age_poulet_jours</th>\n",
       "      <th>Gain_poids_jour_g</th>\n",
       "      <th>Taux_survie_%</th>\n",
       "      <th>Cout_elevage_FCFA</th>\n",
       "    </tr>\n",
       "  </thead>\n",
       "  <tbody>\n",
       "    <tr>\n",
       "      <th>0</th>\n",
       "      <td>3974</td>\n",
       "      <td>52</td>\n",
       "      <td>27.6</td>\n",
       "      <td>79.3</td>\n",
       "      <td>24</td>\n",
       "      <td>12.0</td>\n",
       "      <td>81.1</td>\n",
       "      <td>2682</td>\n",
       "    </tr>\n",
       "    <tr>\n",
       "      <th>1</th>\n",
       "      <td>1660</td>\n",
       "      <td>152</td>\n",
       "      <td>31.7</td>\n",
       "      <td>62.5</td>\n",
       "      <td>42</td>\n",
       "      <td>12.2</td>\n",
       "      <td>89.1</td>\n",
       "      <td>6626</td>\n",
       "    </tr>\n",
       "    <tr>\n",
       "      <th>2</th>\n",
       "      <td>2094</td>\n",
       "      <td>186</td>\n",
       "      <td>30.1</td>\n",
       "      <td>64.8</td>\n",
       "      <td>29</td>\n",
       "      <td>18.8</td>\n",
       "      <td>90.4</td>\n",
       "      <td>8424</td>\n",
       "    </tr>\n",
       "    <tr>\n",
       "      <th>3</th>\n",
       "      <td>1930</td>\n",
       "      <td>111</td>\n",
       "      <td>29.2</td>\n",
       "      <td>87.0</td>\n",
       "      <td>63</td>\n",
       "      <td>13.8</td>\n",
       "      <td>92.9</td>\n",
       "      <td>1933</td>\n",
       "    </tr>\n",
       "    <tr>\n",
       "      <th>4</th>\n",
       "      <td>1895</td>\n",
       "      <td>100</td>\n",
       "      <td>26.1</td>\n",
       "      <td>78.2</td>\n",
       "      <td>21</td>\n",
       "      <td>5.5</td>\n",
       "      <td>93.0</td>\n",
       "      <td>4598</td>\n",
       "    </tr>\n",
       "  </tbody>\n",
       "</table>\n",
       "</div>"
      ],
      "text/plain": [
       "   Poids_poulet_g  Nourriture_consommee_g_jour  Temperature_enclos_C  \\\n",
       "0            3974                           52                  27.6   \n",
       "1            1660                          152                  31.7   \n",
       "2            2094                          186                  30.1   \n",
       "3            1930                          111                  29.2   \n",
       "4            1895                          100                  26.1   \n",
       "\n",
       "   Humidite_%  Age_poulet_jours  Gain_poids_jour_g  Taux_survie_%  \\\n",
       "0        79.3                24               12.0           81.1   \n",
       "1        62.5                42               12.2           89.1   \n",
       "2        64.8                29               18.8           90.4   \n",
       "3        87.0                63               13.8           92.9   \n",
       "4        78.2                21                5.5           93.0   \n",
       "\n",
       "   Cout_elevage_FCFA  \n",
       "0               2682  \n",
       "1               6626  \n",
       "2               8424  \n",
       "3               1933  \n",
       "4               4598  "
      ]
     },
     "execution_count": 41,
     "metadata": {},
     "output_type": "execute_result"
    }
   ],
   "source": [
    "df = pd.read_csv('donnees_elevage_poulet.csv')\n",
    "\n",
    "df.head()"
   ]
  },
  {
   "cell_type": "code",
   "execution_count": 45,
   "metadata": {},
   "outputs": [
    {
     "name": "stdout",
     "output_type": "stream",
     "text": [
      "Matrice de covariance :\n",
      "[[ 1.         -0.08153615  0.01905722  0.07605126 -0.0405321   0.02783081\n",
      "  -0.11850221 -0.02968122]\n",
      " [-0.08153615  1.         -0.18568594 -0.02393538 -0.10684227 -0.06527706\n",
      "  -0.0450926   0.0577708 ]\n",
      " [ 0.01905722 -0.18568594  1.         -0.02690515 -0.06391269  0.05898337\n",
      "  -0.00210254  0.09769277]\n",
      " [ 0.07605126 -0.02393538 -0.02690515  1.         -0.00173546 -0.0103072\n",
      "   0.02464199  0.05061753]\n",
      " [-0.0405321  -0.10684227 -0.06391269 -0.00173546  1.          0.02970125\n",
      "  -0.03014726  0.06254046]\n",
      " [ 0.02783081 -0.06527706  0.05898337 -0.0103072   0.02970125  1.\n",
      "  -0.01488754  0.07192127]\n",
      " [-0.11850221 -0.0450926  -0.00210254  0.02464199 -0.03014726 -0.01488754\n",
      "   1.         -0.09438386]\n",
      " [-0.02968122  0.0577708   0.09769277  0.05061753  0.06254046  0.07192127\n",
      "  -0.09438386  1.        ]]\n",
      "Valeurs propres :\n",
      "[0.68825195 0.77960634 1.26610706 0.94682253 1.14613677 1.10366897\n",
      " 1.01473316 1.05467321]\n",
      "Vecteurs propres :\n",
      "[[-0.12962048 -0.57745754  0.30000215 -0.10544206 -0.19015388 -0.68853542\n",
      "  -0.17035845  0.09674953]\n",
      " [-0.59936261 -0.13787455 -0.56060745 -0.15664932 -0.45084781  0.07098187\n",
      "   0.10660948 -0.2515305 ]\n",
      " [-0.54701113  0.0776947   0.54823689  0.31992439  0.21332517  0.07819074\n",
      "   0.09284161 -0.4812339 ]\n",
      " [-0.12084829  0.35540901  0.10039135 -0.00153442 -0.1339213  -0.33766657\n",
      "   0.77411356  0.34321119]\n",
      " [-0.40877099 -0.12769807  0.17387055  0.1598618  -0.08345863  0.40990537\n",
      "  -0.19159612  0.74102354]\n",
      " [-0.0632662   0.14010977  0.389066   -0.87595753 -0.08146334  0.21928201\n",
      "  -0.02290654 -0.04946821]\n",
      " [-0.061297   -0.55999652 -0.17160059 -0.19393787  0.63506821  0.16087804\n",
      "   0.42934794  0.0453308 ]\n",
      " [ 0.36780953 -0.40699842  0.27207681  0.17753788 -0.52935995  0.39844609\n",
      "   0.36078749 -0.15612201]]\n"
     ]
    }
   ],
   "source": [
    "# Implémentez une ACP sans scikit-learn (avec numpy).\n",
    "\n",
    "# Etapes : \n",
    "# 1. Centrer les données\n",
    "# 2. Normaliser les données\n",
    "# 3. Calculer la matrice de covariance\n",
    "# 4. Calculer les valeurs propres et les vecteurs propres\n",
    "\n",
    "\n",
    "# Centrez les données\n",
    "df_centered = df - df.mean()\n",
    "# Normalisez les données\n",
    "df_normalized = df_centered / df.std()\n",
    "# Calculez la matrice de covariance\n",
    "cov_matrix = np.cov(df_normalized.T)\n",
    "print(\"Matrice de covariance :\")\n",
    "print(cov_matrix)\n",
    "# Calculez les valeurs propres et les vecteurs propres\n",
    "eigenvalues, eigenvectors = np.linalg.eig(cov_matrix)\n",
    "print(\"Valeurs propres :\")\n",
    "print(eigenvalues)\n",
    "print(\"Vecteurs propres :\")\n",
    "print(eigenvectors)\n"
   ]
  },
  {
   "cell_type": "code",
   "execution_count": 51,
   "metadata": {},
   "outputs": [
    {
     "data": {
      "image/png": "[encoded data removed]",
      "text/plain": [
       "<Figure size 800x600 with 1 Axes>"
      ]
     },
     "metadata": {},
     "output_type": "display_data"
    }
   ],
   "source": [
    "# Projetez les données sur les deux premières composantes principales et visualisez le résultat \n",
    "\n",
    "import matplotlib.pyplot as plt\n",
    "# Projetez les données sur les deux premières composantes principales\n",
    "pc1 = df_normalized.dot(eigenvectors[:, 0])\n",
    "pc2 = df_normalized.dot(eigenvectors[:, 1])\n",
    "# Visualisez le résultat\n",
    "plt.figure(figsize=(8, 6))\n",
    "plt.scatter(pc1, pc2, alpha=0.5)\n",
    "plt.title('Projection sur les deux premières composantes principales')\n",
    "plt.xlabel('PC1')\n",
    "plt.ylabel('PC2')\n",
    "plt.grid()\n",
    "plt.show()\n",
    "\n",
    "\n",
    "\n",
    "\n"
   ]
  },
  {
   "cell_type": "code",
   "execution_count": 52,
   "metadata": {},
   "outputs": [
    {
     "name": "stdout",
     "output_type": "stream",
     "text": [
      "Variance expliquée par chaque composante principale :\n",
      "[0.08603149 0.09745079 0.15826338 0.11835282 0.1432671  0.13795862\n",
      " 0.12684165 0.13183415]\n"
     ]
    }
   ],
   "source": [
    "# Combien de composantes gardez-vous ? Justifiez. \n",
    "\n",
    "# calcule de la variance expliquée par chaque composante principale\n",
    "variance_explained = eigenvalues / np.sum(eigenvalues)\n",
    "print(\"Variance expliquée par chaque composante principale :\")\n",
    "print(variance_explained)"
   ]
  },
  {
   "cell_type": "markdown",
   "metadata": {},
   "source": [
    "\n",
    "##### Combien de composantes gardez-vous ? Justifiez. \n",
    "\n",
    "- La variance expliquée par les deux premières composantes principales est de 0.08603149 + 0.09745079 = 0.18348228, ce qui représente environ 18.35% de la variance totale.\n",
    "- Donc, les deux premières composantes principales ne suffisent pas à expliquer la variance totale des données."
   ]
  },
  {
   "cell_type": "markdown",
   "metadata": {},
   "source": [
    "### Exercice 5 : ACP à Noyau\n",
    "\n",
    "1.  Appliquez KernelPCA (avec scikit-learn) sur les données et testez différents noyaux (linéaire, RBF, polynomial).\n",
    "1.  Comparez les résultats avec l'ACP classique. Dans quels cas l’ACP à noyau donne-t- elle de meilleurs résultats ?"
   ]
  },
  {
   "cell_type": "code",
   "execution_count": 58,
   "metadata": {},
   "outputs": [
    {
     "name": "stdout",
     "output_type": "stream",
     "text": [
      "Kernel: linear, Accuracy: 0.53\n",
      "Kernel: rbf, Accuracy: 0.53\n",
      "Kernel: poly, Accuracy: 0.50\n"
     ]
    },
    {
     "data": {
      "image/png": "[encoded data removed]",
      "text/plain": [
       "<Figure size 1000x500 with 1 Axes>"
      ]
     },
     "metadata": {},
     "output_type": "display_data"
    }
   ],
   "source": [
    "# Appliquez KernelPCA (avec scikit-learn) sur les données df et testez différents noyaux (linéaire, RBF, polynomial).\n",
    "\n",
    "from sklearn.decomposition import KernelPCA\n",
    "from sklearn.preprocessing import StandardScaler\n",
    "from sklearn.pipeline import make_pipeline\n",
    "from sklearn.datasets import make_moons\n",
    "from sklearn.model_selection import train_test_split\n",
    "from sklearn.metrics import accuracy_score\n",
    "from sklearn.svm import SVC\n",
    "\n",
    "df = pd.read_csv('donnees_elevage_poulet.csv')\n",
    "\n",
    "# Normalisation des données\n",
    "scaler = StandardScaler()\n",
    "X_scaled = scaler.fit_transform(df)\n",
    "# Ajout d'une colonne cible fictive pour l'exemple\n",
    "df['target'] = np.random.choice([0, 1], size=len(df))  # Remplacez par une vraie colonne cible si disponible\n",
    "\n",
    "# Séparation des données en ensembles d'entraînement et de test\n",
    "X_train, X_test, y_train, y_test = train_test_split(X_scaled, df['target'], test_size=0.2, random_state=42)\n",
    "\n",
    "# Création d'un pipeline avec KernelPCA et SVC\n",
    "kernel_types = ['linear', 'rbf', 'poly']\n",
    "results = {}\n",
    "for kernel in kernel_types:\n",
    "    kpca = KernelPCA(kernel=kernel, n_components=2)\n",
    "    X_train_kpca = kpca.fit_transform(X_train)\n",
    "    X_test_kpca = kpca.transform(X_test)\n",
    "    # Entraînement d'un SVM sur les données transformées\n",
    "    svm = SVC(kernel='linear')\n",
    "    svm.fit(X_train_kpca, y_train)\n",
    "    # Prédiction sur l'ensemble de test\n",
    "    y_pred = svm.predict(X_test_kpca)\n",
    "    # Calcul de l'accuracy\n",
    "    accuracy = accuracy_score(y_test, y_pred)\n",
    "    results[kernel] = accuracy\n",
    "    print(f'Kernel: {kernel}, Accuracy: {accuracy:.2f}')\n",
    "# Visualisation des résultats\n",
    "plt.figure(figsize=(10, 5))\n",
    "plt.bar(results.keys(), results.values(), color=['blue', 'green', 'red'])\n",
    "\n",
    "plt.title('Accuracy des différents noyaux avec KernelPCA')\n",
    "plt.xlabel('Type de noyau')\n",
    "plt.ylabel('Accuracy')\n",
    "plt.ylim(0, 1)\n",
    "plt.grid(axis='y', alpha=0.75)\n",
    "plt.show()\n",
    "\n",
    "\n",
    "\n"
   ]
  },
  {
   "cell_type": "markdown",
   "metadata": {},
   "source": [
    "#### Observations : \n",
    "\n",
    "On remarque que les 3 noyau ont une bonne aprecision, plus précisment les noyau linéaires et rbf"
   ]
  },
  {
   "cell_type": "markdown",
   "metadata": {},
   "source": [
    "### Comparez les résultats avec l'ACP classique. Dans quels cas l’ACP à noyau donne-t- elle de meilleurs résultats ?"
   ]
  },
  {
   "cell_type": "code",
   "execution_count": 61,
   "metadata": {},
   "outputs": [
    {
     "name": "stdout",
     "output_type": "stream",
     "text": [
      "Accuracy de l'ACP classique: 0.57\n"
     ]
    }
   ],
   "source": [
    "# Accuracy de l'ACP classique sur df : \n",
    "\n",
    "from sklearn.decomposition import PCA\n",
    "from sklearn.pipeline import make_pipeline\n",
    "from sklearn.preprocessing import StandardScaler\n",
    "from sklearn.svm import SVC\n",
    "from sklearn.model_selection import train_test_split\n",
    "from sklearn.metrics import accuracy_score\n",
    "\n",
    "# Normalisation des données\n",
    "scaler = StandardScaler()\n",
    "\n",
    "X_scaled = scaler.fit_transform(df)\n",
    "# Ajout d'une colonne cible fictive pour l'exemple\n",
    "df['target'] = np.random.choice([0, 1], size=len(df))  # Remplacez par une vraie colonne cible si disponible\n",
    "# Séparation des données en ensembles d'entraînement et de test\n",
    "X_train, X_test, y_train, y_test = train_test_split(X_scaled, df['target'], test_size=0.2, random_state=42)\n",
    "# Création d'un pipeline avec PCA et SVC\n",
    "pca = PCA(n_components=2)\n",
    "X_train_pca = pca.fit_transform(X_train)\n",
    "X_test_pca = pca.transform(X_test)\n",
    "# Entraînement d'un SVM sur les données transformées\n",
    "svm = SVC(kernel='linear')\n",
    "svm.fit(X_train_pca, y_train)\n",
    "# Prédiction sur l'ensemble de test\n",
    "y_pred = svm.predict(X_test_pca)\n",
    "# Calcul de l'accuracy\n",
    "accuracy = accuracy_score(y_test, y_pred)\n",
    "print(f'Accuracy de l\\'ACP classique: {accuracy:.2f}')"
   ]
  },
  {
   "cell_type": "markdown",
   "metadata": {},
   "source": [
    "- ACP noyau et ACP classique ont des approches différentes pour la réduction de dimensionnalité.\n",
    "- ACP classique utilise des transformations linéaires pour projeter les données dans un espace de dimension inférieure, tandis que KernelPCA utilise des noyaux pour capturer des relations non linéaires entre les données.\n",
    "- On a Accuracy de l'ACP classique: 0.47 tadis que KernelPCA avec le noyau RBF a donné une accuracy de plus de 0.50 sur les 3 noyaux testés.\n",
    "-  ACP noyau donne de smeilleurs résultats que l'ACP classique quand les données ne sont pas linéairement séparables.\n"
   ]
  },
  {
   "cell_type": "markdown",
   "metadata": {},
   "source": [
    "### Partie 3 : Méthodes d'ensemble"
   ]
  },
  {
   "cell_type": "markdown",
   "metadata": {},
   "source": [
    "#### Exercice 6 : Bagging\n",
    "\n",
    "1.  Implémentez une forêt aléatoire (RandomForestClassifier) pour prédire la survie des poulets. Analysez les performances (accuracy, F1-score).\n",
    "1.  Identifiez les variables les plus importantes. Quels attributs influencent le plus la survie des poulets ? Pourquoi ?"
   ]
  },
  {
   "cell_type": "code",
   "execution_count": 62,
   "metadata": {},
   "outputs": [
    {
     "data": {
      "application/vnd.microsoft.datawrangler.viewer.v0+json": {
       "columns": [
        {
         "name": "index",
         "rawType": "int64",
         "type": "integer"
        },
        {
         "name": "Poids_poulet_g",
         "rawType": "int64",
         "type": "integer"
        },
        {
         "name": "Nourriture_consommee_g_jour",
         "rawType": "int64",
         "type": "integer"
        },
        {
         "name": "Temperature_enclos_C",
         "rawType": "float64",
         "type": "float"
        },
        {
         "name": "Humidite_%",
         "rawType": "float64",
         "type": "float"
        },
        {
         "name": "Age_poulet_jours",
         "rawType": "int64",
         "type": "integer"
        },
        {
         "name": "Gain_poids_jour_g",
         "rawType": "float64",
         "type": "float"
        },
        {
         "name": "Taux_survie_%",
         "rawType": "float64",
         "type": "float"
        },
        {
         "name": "Cout_elevage_FCFA",
         "rawType": "int64",
         "type": "integer"
        },
        {
         "name": "target",
         "rawType": "int64",
         "type": "integer"
        }
       ],
       "conversionMethod": "pd.DataFrame",
       "ref": "221b2fc2-70f6-4636-ba2b-26dc3f70f377",
       "rows": [
        [
         "0",
         "3974",
         "52",
         "27.6",
         "79.3",
         "24",
         "12.0",
         "81.1",
         "2682",
         "1"
        ],
        [
         "1",
         "1660",
         "152",
         "31.7",
         "62.5",
         "42",
         "12.2",
         "89.1",
         "6626",
         "0"
        ],
        [
         "2",
         "2094",
         "186",
         "30.1",
         "64.8",
         "29",
         "18.8",
         "90.4",
         "8424",
         "0"
        ],
        [
         "3",
         "1930",
         "111",
         "29.2",
         "87.0",
         "63",
         "13.8",
         "92.9",
         "1933",
         "0"
        ],
        [
         "4",
         "1895",
         "100",
         "26.1",
         "78.2",
         "21",
         "5.5",
         "93.0",
         "4598",
         "1"
        ]
       ],
       "shape": {
        "columns": 9,
        "rows": 5
       }
      },
      "text/html": [
       "<div>\n",
       "<style scoped>\n",
       "    .dataframe tbody tr th:only-of-type {\n",
       "        vertical-align: middle;\n",
       "    }\n",
       "\n",
       "    .dataframe tbody tr th {\n",
       "        vertical-align: top;\n",
       "    }\n",
       "\n",
       "    .dataframe thead th {\n",
       "        text-align: right;\n",
       "    }\n",
       "</style>\n",
       "<table border=\"1\" class=\"dataframe\">\n",
       "  <thead>\n",
       "    <tr style=\"text-align: right;\">\n",
       "      <th></th>\n",
       "      <th>Poids_poulet_g</th>\n",
       "      <th>Nourriture_consommee_g_jour</th>\n",
       "      <th>Temperature_enclos_C</th>\n",
       "      <th>Humidite_%</th>\n",
       "      <th>Age_poulet_jours</th>\n",
       "      <th>Gain_poids_jour_g</th>\n",
       "      <th>Taux_survie_%</th>\n",
       "      <th>Cout_elevage_FCFA</th>\n",
       "      <th>target</th>\n",
       "    </tr>\n",
       "  </thead>\n",
       "  <tbody>\n",
       "    <tr>\n",
       "      <th>0</th>\n",
       "      <td>3974</td>\n",
       "      <td>52</td>\n",
       "      <td>27.6</td>\n",
       "      <td>79.3</td>\n",
       "      <td>24</td>\n",
       "      <td>12.0</td>\n",
       "      <td>81.1</td>\n",
       "      <td>2682</td>\n",
       "      <td>1</td>\n",
       "    </tr>\n",
       "    <tr>\n",
       "      <th>1</th>\n",
       "      <td>1660</td>\n",
       "      <td>152</td>\n",
       "      <td>31.7</td>\n",
       "      <td>62.5</td>\n",
       "      <td>42</td>\n",
       "      <td>12.2</td>\n",
       "      <td>89.1</td>\n",
       "      <td>6626</td>\n",
       "      <td>0</td>\n",
       "    </tr>\n",
       "    <tr>\n",
       "      <th>2</th>\n",
       "      <td>2094</td>\n",
       "      <td>186</td>\n",
       "      <td>30.1</td>\n",
       "      <td>64.8</td>\n",
       "      <td>29</td>\n",
       "      <td>18.8</td>\n",
       "      <td>90.4</td>\n",
       "      <td>8424</td>\n",
       "      <td>0</td>\n",
       "    </tr>\n",
       "    <tr>\n",
       "      <th>3</th>\n",
       "      <td>1930</td>\n",
       "      <td>111</td>\n",
       "      <td>29.2</td>\n",
       "      <td>87.0</td>\n",
       "      <td>63</td>\n",
       "      <td>13.8</td>\n",
       "      <td>92.9</td>\n",
       "      <td>1933</td>\n",
       "      <td>0</td>\n",
       "    </tr>\n",
       "    <tr>\n",
       "      <th>4</th>\n",
       "      <td>1895</td>\n",
       "      <td>100</td>\n",
       "      <td>26.1</td>\n",
       "      <td>78.2</td>\n",
       "      <td>21</td>\n",
       "      <td>5.5</td>\n",
       "      <td>93.0</td>\n",
       "      <td>4598</td>\n",
       "      <td>1</td>\n",
       "    </tr>\n",
       "  </tbody>\n",
       "</table>\n",
       "</div>"
      ],
      "text/plain": [
       "   Poids_poulet_g  Nourriture_consommee_g_jour  Temperature_enclos_C  \\\n",
       "0            3974                           52                  27.6   \n",
       "1            1660                          152                  31.7   \n",
       "2            2094                          186                  30.1   \n",
       "3            1930                          111                  29.2   \n",
       "4            1895                          100                  26.1   \n",
       "\n",
       "   Humidite_%  Age_poulet_jours  Gain_poids_jour_g  Taux_survie_%  \\\n",
       "0        79.3                24               12.0           81.1   \n",
       "1        62.5                42               12.2           89.1   \n",
       "2        64.8                29               18.8           90.4   \n",
       "3        87.0                63               13.8           92.9   \n",
       "4        78.2                21                5.5           93.0   \n",
       "\n",
       "   Cout_elevage_FCFA  target  \n",
       "0               2682       1  \n",
       "1               6626       0  \n",
       "2               8424       0  \n",
       "3               1933       0  \n",
       "4               4598       1  "
      ]
     },
     "execution_count": 62,
     "metadata": {},
     "output_type": "execute_result"
    }
   ],
   "source": [
    "df.head()"
   ]
  },
  {
   "cell_type": "code",
   "execution_count": 64,
   "metadata": {},
   "outputs": [
    {
     "name": "stdout",
     "output_type": "stream",
     "text": [
      "Accuracy de la forêt aléatoire: 0.57\n",
      "F1-score de la forêt aléatoire: 0.64\n"
     ]
    }
   ],
   "source": [
    "# Implémentez une forêt aléatoire (RandomForestClassifier) pour prédire la survie des poulets. Analysez les performances (accuracy, F1-score).\n",
    "\n",
    "from sklearn.ensemble import RandomForestClassifier\n",
    "from sklearn.metrics import accuracy_score, f1_score\n",
    "from sklearn.model_selection import train_test_split\n",
    "from sklearn.preprocessing import StandardScaler\n",
    "\n",
    "# Normalisation des données\n",
    "scaler = StandardScaler()\n",
    "X_scaled = scaler.fit_transform(df.drop(columns=['target']))  # Suppression de la colonne cible pour la normalisation\n",
    "# Séparation des données en ensembles d'entraînement et de test\n",
    "X_train, X_test, y_train, y_test = train_test_split(X_scaled, df['target'], test_size=0.2, random_state=42)\n",
    "# Création du modèle RandomForestClassifier\n",
    "\n",
    "rf = RandomForestClassifier(n_estimators=100, random_state=42)\n",
    "# Entraînement du modèle\n",
    "rf.fit(X_train, y_train)\n",
    "# Prédiction sur l'ensemble de test\n",
    "y_pred = rf.predict(X_test)\n",
    "# Calcul de l'accuracy\n",
    "accuracy = accuracy_score(y_test, y_pred)\n",
    "\n",
    "print(f'Accuracy de la forêt aléatoire: {accuracy:.2f}')\n",
    "# Calcul du F1-score\n",
    "f1 = f1_score(y_test, y_pred)\n",
    "print(f'F1-score de la forêt aléatoire: {f1:.2f}')"
   ]
  },
  {
   "cell_type": "markdown",
   "metadata": {},
   "source": [
    "#### Interprétation des résultats :\n",
    "\n",
    "- L'accuracy de 0.57 indique que le modèle a correctement prédit la survie des poulets dans 57% des cas. \n",
    "- Le F1-score de 0.64, qui est une mesure de la précision et du rappel, suggère que le modèle a un équilibre raisonnable entre les faux positifs et les faux négatifs. "
   ]
  },
  {
   "cell_type": "code",
   "execution_count": null,
   "metadata": {},
   "outputs": [
    {
     "name": "stdout",
     "output_type": "stream",
     "text": [
      "Importance des attributs :\n",
      "1. Attribut 3: 0.1759\n",
      "2. Attribut 5: 0.1309\n",
      "3. Attribut 2: 0.1257\n",
      "4. Attribut 1: 0.1218\n",
      "5. Attribut 4: 0.1126\n",
      "6. Attribut 0: 0.1125\n",
      "7. Attribut 6: 0.1109\n",
      "8. Attribut 7: 0.1098\n"
     ]
    },
    {
     "data": {
      "image/png": "[encoded data removed]",
      "text/plain": [
       "<Figure size 1000x600 with 1 Axes>"
      ]
     },
     "metadata": {},
     "output_type": "display_data"
    },
    {
     "name": "stdout",
     "output_type": "stream",
     "text": [
      "Attribut le plus important: Humidite_%\n"
     ]
    }
   ],
   "source": [
    "# Identifiez les variables les plus importantes. Quels attributs influencent le plus la survie des poulets ? Pourquoi ?\n",
    "\n",
    "importances = rf.feature_importances_\n",
    "indices = np.argsort(importances)[::-1]\n",
    "print(\"Importance des attributs :\")\n",
    "for i in range(X_scaled.shape[1]):\n",
    "    print(f\"{i + 1}. Attribut {indices[i]}: {importances[indices[i]]:.4f}\")\n",
    "# Visualisation de l'importance des attributs\n",
    "plt.figure(figsize=(10, 6))\n",
    "plt.title(\"Importance des attributs dans la forêt aléatoire\")\n",
    "plt.bar(range(X_scaled.shape[1]), importances[indices], align='center')\n",
    "plt.xticks(range(X_scaled.shape[1]), indices)\n",
    "plt.xlabel(\"Attributs\")\n",
    "plt.ylabel(\"Importance\")\n",
    "plt.show()\n",
    "print(f\"Attribut le plus important: {df.columns[indices[0]]}\")"
   ]
  },
  {
   "cell_type": "markdown",
   "metadata": {},
   "source": [
    "##### L'attribut le plus important est Humidite%, car dans notre bar plot, c'est celui qui est le plus élevé"
   ]
  },
  {
   "cell_type": "markdown",
   "metadata": {},
   "source": [
    "#### Exercice 7 : Boosting\n",
    "\n",
    "13.  Comparez AdaBoost et Gradient Boosting sur la prédiction du gain de poids. Analysez leurs performances.\n",
    "14.  Les deux algorithmes réagissent-ils différemment aux outliers ? Expliquez pourquoi."
   ]
  },
  {
   "cell_type": "code",
   "execution_count": null,
   "metadata": {},
   "outputs": [
    {
     "name": "stdout",
     "output_type": "stream",
     "text": [
      "Erreur quadratique moyenne de AdaBoost: 0.26\n",
      "Erreur quadratique moyenne de Gradient Boosting: 0.33\n"
     ]
    }
   ],
   "source": [
    "# Comparez AdaBoost et Gradient Boosting sur la prédiction du gain de poids. Analysez leurs performances\n",
    "\n",
    "df.head()\n",
    "\n",
    "from sklearn.ensemble import AdaBoostRegressor, GradientBoostingRegressor\n",
    "from sklearn.metrics import mean_squared_error\n",
    "from sklearn.model_selection import train_test_split\n",
    "from sklearn.preprocessing import StandardScaler\n",
    "\n",
    "# Normalisation des données\n",
    "scaler = StandardScaler()\n",
    "X_scaled = scaler.fit_transform(df.drop(columns=['target']))  # Suppression de la colonne cible pour la normalisation\n",
    "# Séparation des données en ensembles d'entraînement et de test\n",
    "X_train, X_test, y_train, y_test = train_test_split(X_scaled, df['target'], test_size=0.2, random_state=42)\n",
    "# Création du modèle AdaBoost\n",
    "ada = AdaBoostRegressor(n_estimators=100, random_state=42)\n",
    "# Entraînement du modèle\n",
    "ada.fit(X_train, y_train)\n",
    "# Prédiction sur l'ensemble de test\n",
    "y_pred_ada = ada.predict(X_test)\n",
    "# Calcul de l'erreur quadratique moyenne\n",
    "mse_ada = mean_squared_error(y_test, y_pred_ada)\n",
    "print(f'Erreur quadratique moyenne de AdaBoost: {mse_ada:.2f}')\n",
    "# Création du modèle Gradient Boosting\n",
    "gb = GradientBoostingRegressor(n_estimators=100, random_state=42)\n",
    "# Entraînement du modèle\n",
    "gb.fit(X_train, y_train)\n",
    "# Prédiction sur l'ensemble de test\n",
    "y_pred_gb = gb.predict(X_test)\n",
    "# Calcul de l'erreur quadratique moyenne\n",
    "mse_gb = mean_squared_error(y_test, y_pred_gb)\n",
    "print(f'Erreur quadratique moyenne de Gradient Boosting: {mse_gb:.2f}')\n"
   ]
  },
  {
   "cell_type": "markdown",
   "metadata": {},
   "source": [
    "- AdaBoost a une erreur quadratique moyenne plus faible que Gradient Boosting, ce qui indique qu'il est plus performant pour prédire le gain de poids.\n",
    "- AdaBoost est généralement plus robuste aux outliers et peut mieux gérer les données bruitées."
   ]
  },
  {
   "cell_type": "markdown",
   "metadata": {},
   "source": [
    "### Les deux algorithmes réagissent-ils différemment aux outliers ? Expliquez pourquoi : \n",
    "\n",
    "- Les algorithmes de boosting, tels qu'AdaBoost et Gradient Boosting, sont généralement plus robustes aux outliers que les algorithmes de régression linéaire traditionnels. Cela est dû à leur capacité à ajuster les poids des observations en fonction de leur importance dans le modèle. En revanche, les outliers peuvent influencer considérablement les performances des modèles linéaires, car ils peuvent tirer la ligne de régression vers eux.\n",
    "- Les algorithmes de boosting, en revanche, se concentrent sur les erreurs des observations mal prédites et ajustent les poids en conséquence. Cela signifie que les outliers peuvent avoir moins d'impact sur le modèle global, car le modèle apprend à ignorer ces points extrêmes au fil des itérations."
   ]
  }
 ],
 "metadata": {
  "kernelspec": {
   "display_name": "Python 3 (ipykernel)",
   "language": "python",
   "name": "python3"
  },
  "language_info": {
   "codemirror_mode": {
    "name": "ipython",
    "version": 3
   },
   "file_extension": ".py",
   "mimetype": "text/x-python",
   "name": "python",
   "nbconvert_exporter": "python",
   "pygments_lexer": "ipython3",
   "version": "3.9.0"
  }
 },
 "nbformat": 4,
 "nbformat_minor": 4
}
